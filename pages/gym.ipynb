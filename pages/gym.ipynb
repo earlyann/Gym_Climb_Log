{
 "cells": [
  {
   "cell_type": "code",
   "execution_count": 4,
   "metadata": {},
   "outputs": [],
   "source": [
    "import pandas as pd\n",
    "import numpy as np\n",
    "import matplotlib.pyplot as plt\n",
    "import seaborn as sns\n",
    "import hashlib  # Import the hashlib library\n",
    "\n",
    "from pages.db_singleton import get_db\n",
    "\n"
   ]
  },
  {
   "cell_type": "code",
   "execution_count": 3,
   "metadata": {},
   "outputs": [],
   "source": [
    "# Function to hash a password\n",
    "def hash_password(password):\n",
    "    # Create a new sha256 hash object\n",
    "    sha = hashlib.sha256()\n",
    "    \n",
    "    # Update the hash object with the bytes of the password\n",
    "    sha.update(password.encode())\n",
    "    \n",
    "    # Return the hexadecimal digest of the password\n",
    "    return sha.hexdigest()"
   ]
  },
  {
   "cell_type": "code",
   "execution_count": 4,
   "metadata": {},
   "outputs": [
    {
     "data": {
      "text/plain": [
       "'a57709604a2576186f16cd82e4be3ce09d4514b0eb9cc3968465b695f4342ec6'"
      ]
     },
     "execution_count": 4,
     "metadata": {},
     "output_type": "execute_result"
    }
   ],
   "source": [
    "hash_password('Fresh4gnar!')"
   ]
  }
 ],
 "metadata": {
  "kernelspec": {
   "display_name": "llama",
   "language": "python",
   "name": "python3"
  },
  "language_info": {
   "codemirror_mode": {
    "name": "ipython",
    "version": 3
   },
   "file_extension": ".py",
   "mimetype": "text/x-python",
   "name": "python",
   "nbconvert_exporter": "python",
   "pygments_lexer": "ipython3",
   "version": "3.11.5"
  }
 },
 "nbformat": 4,
 "nbformat_minor": 2
}
